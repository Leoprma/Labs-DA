{
 "cells": [
  {
   "cell_type": "markdown",
   "metadata": {
    "colab_type": "text",
    "id": "Smya68K_kUJz"
   },
   "source": [
    "# Before your start:\n",
    "- Read the README.md file\n",
    "- Comment as much as you can and use the resources in the README.md file\n",
    "- Happy learning!"
   ]
  },
  {
   "cell_type": "code",
   "execution_count": 2,
   "metadata": {
    "colab": {},
    "colab_type": "code",
    "id": "UmpfHHYjkUJ0"
   },
   "outputs": [],
   "source": [
    "import re"
   ]
  },
  {
   "cell_type": "markdown",
   "metadata": {
    "colab_type": "text",
    "id": "yLuALiyCkUJ3"
   },
   "source": [
    "# Challenge 1 - Combining Strings\n",
    "\n",
    "Combining strings is an important skill to acquire. There are multiple ways of combining strings in Python, as well as combining strings with variables. We will explore this in the first challenge. In the cell below, combine the strings in the list and add spaces between the strings (do not add a space after the last string). Insert a period after the last string."
   ]
  },
  {
   "cell_type": "code",
   "execution_count": 2,
   "metadata": {
    "colab": {},
    "colab_type": "code",
    "id": "n0LxSL1tkUJ4"
   },
   "outputs": [
    {
     "name": "stdout",
     "output_type": "stream",
     "text": [
      "Durante un tiempo no estuvo segura de si su marido era su marido.\n"
     ]
    }
   ],
   "source": [
    "str_list = ['Durante', 'un', 'tiempo', 'no', 'estuvo', 'segura', 'de', 'si', 'su', 'marido', 'era', 'su', 'marido']\n",
    "# Your code here:\n",
    "\n",
    "print(\" \".join(str_list)+\".\")"
   ]
  },
  {
   "cell_type": "markdown",
   "metadata": {
    "colab_type": "text",
    "id": "jjnjuDhbkUJ6"
   },
   "source": [
    "In the cell below, use the list of strings to create a grocery list. Start the list with the string `Grocery list: ` and include a comma and a space between each item except for the last one. Include a period at the end. Only include foods in the list that start with the letter 'b' and ensure all foods are lower case."
   ]
  },
  {
   "cell_type": "code",
   "execution_count": 3,
   "metadata": {
    "colab": {},
    "colab_type": "code",
    "id": "D9EWG-9YkUJ6"
   },
   "outputs": [
    {
     "name": "stdout",
     "output_type": "stream",
     "text": [
      "Grocery list: bananas, bread, brownie mix, broccoli.\n"
     ]
    }
   ],
   "source": [
    "food_list = ['Bananas', 'Chocolate', 'bread', 'diapers', 'Ice Cream', 'Brownie Mix', 'broccoli']\n",
    "# Your code here:\n",
    "\n",
    "grocery_list=[]\n",
    "\n",
    "for food in food_list:\n",
    "    if food.startswith(\"b\") or food.startswith(\"B\"):\n",
    "        grocery_list.append(food.lower())\n",
    "    \n",
    "print(\"Grocery list: \"+\", \".join(grocery_list)+\".\")"
   ]
  },
  {
   "cell_type": "markdown",
   "metadata": {
    "colab_type": "text",
    "id": "r-7puDW_kUJ8"
   },
   "source": [
    "In the cell below, write a function that computes the area of a circle using its radius. Compute the area of the circle and insert the radius and the area between the two strings. Make sure to include spaces between the variable and the strings. \n",
    "\n",
    "Note: You can use the techniques we have learned so far or use f-strings. F-strings allow us to embed code inside strings. You can read more about f-strings [here](https://www.python.org/dev/peps/pep-0498/)."
   ]
  },
  {
   "cell_type": "code",
   "execution_count": 4,
   "metadata": {
    "colab": {},
    "colab_type": "code",
    "id": "dEpQOL59kUJ9"
   },
   "outputs": [
    {
     "name": "stdout",
     "output_type": "stream",
     "text": [
      "The area of the circle with radius: 4.5 is: 63.615375\n"
     ]
    }
   ],
   "source": [
    "string1 = \"The area of the circle with radius:\"\n",
    "string2  = \"is:\"\n",
    "radius = 4.5\n",
    "\n",
    "def area(x):\n",
    "    \"\"\"\n",
    "    This function takes a radius and returns the area of a circle. \n",
    "    \n",
    "    Input: Float\n",
    "    Output: Float\n",
    "    \n",
    "    Sample input: 5.0\n",
    "    Sample Output: 78.53981633\n",
    "    \"\"\"\n",
    "    pi = 3.1415\n",
    "    \n",
    "    A=pi*x**2\n",
    "    \n",
    "    # Your code here:\n",
    "    return A\n",
    "    \n",
    "# Your output string here:\n",
    "\n",
    "print(f'{string1} {radius} {string2} {area(radius)}')"
   ]
  },
  {
   "cell_type": "markdown",
   "metadata": {
    "colab_type": "text",
    "id": "5wUx1N0gkUJ_"
   },
   "source": [
    "# Challenge 2 - Splitting Strings\n",
    "\n",
    "We have first looked at combining strings into one long string. There are times where we need to do the opposite and split the string into smaller components for further analysis. \n",
    "\n",
    "In the cell below, split the string into a list of strings using the space delimiter. Count the frequency of each word in the string in a dictionary. Strip the periods, line breaks and commas from the text. Make sure to remove empty strings from your dictionary."
   ]
  },
  {
   "cell_type": "code",
   "execution_count": 5,
   "metadata": {
    "colab": {},
    "colab_type": "code",
    "id": "5kCqHBEUkUKA"
   },
   "outputs": [
    {
     "name": "stdout",
     "output_type": "stream",
     "text": [
      "{'And': 1, 'But': 1, 'From': 1, 'I': 3, 'Is': 1, 'I’ve': 1, 'Some': 2, 'To': 1, 'also': 1, 'desire': 1, 'destruction': 1, 'end': 1, 'enough': 1, 'favor': 1, 'fire,': 1, 'fire.': 1, 'for': 1, 'great': 1, 'had': 1, 'hate': 1, 'hold': 1, 'ice': 1, 'ice.': 1, 'if': 1, 'in': 2, 'it': 1, 'know': 1, 'of': 2, 'perish': 1, 'say': 3, 'suffice.': 1, 'tasted': 1, 'that': 1, 'the': 1, 'think': 1, 'those': 1, 'to': 1, 'twice,': 1, 'what': 1, 'who': 1, 'will': 1, 'with': 1, 'world': 1, 'would': 1}\n"
     ]
    }
   ],
   "source": [
    "poem = \"\"\"Some say the world will end in fire,\n",
    "Some say in ice.\n",
    "From what I’ve tasted of desire\n",
    "I hold with those who favor fire.\n",
    "But if it had to perish twice,\n",
    "I think I know enough of hate\n",
    "To say that for destruction ice\n",
    "Is also great\n",
    "And would suffice.\"\"\"\n",
    "\n",
    "# Your code here:\n",
    "\n",
    "frequency={}\n",
    "\n",
    "splitted_poem=poem.split()\n",
    "splitted_poem.sort()\n",
    "\n",
    "for word in splitted_poem:\n",
    "    frequency[word]=splitted_poem.count(word)\n",
    "\n",
    "\n",
    "print(frequency)"
   ]
  },
  {
   "cell_type": "markdown",
   "metadata": {
    "colab_type": "text",
    "id": "84q3YtTEkUKC"
   },
   "source": [
    "In the cell below, find all the words that appear in the text and do not appear in the blacklist. You must parse the string but can choose any data structure you wish for the words that do not appear in the blacklist. Remove all non letter characters and convert all words to lower case."
   ]
  },
  {
   "cell_type": "code",
   "execution_count": 6,
   "metadata": {
    "colab": {},
    "colab_type": "code",
    "id": "Xx0iP3skkUKE",
    "scrolled": true
   },
   "outputs": [
    {
     "name": "stdout",
     "output_type": "stream",
     "text": [
      "Essas são todas as palavras do poema: \n",
      "['an', 'and', 'angry', 'apple', 'beheld', 'beneath', 'bore', 'both', 'bright', 'day', 'deceitful', 'did', 'end', 'fears', 'foe', 'foe', 'friend', 'garden', 'glad', 'grew', 'grow', 'had', 'he', 'i', 'in', 'into', 'it', 'knew', 'mine', 'morning', 'my', 'night', 'night', 'not', 'outstretched', 'pole', 'see', 'shine', 'smiles', 'soft', 'stole', 'sunned', 'tears', 'that', 'the', 'till', 'told', 'tree', 'veild', 'was', 'waterd', 'when', 'wiles', 'with', 'wrath', 'wrath']\n",
      "\n",
      "Essas são as palavras do poema sem as da blacklist: \n",
      "['angry', 'apple', 'beheld', 'beneath', 'bore', 'both', 'bright', 'day', 'deceitful', 'did', 'end', 'fears', 'foe', 'foe', 'friend', 'garden', 'glad', 'grew', 'grow', 'had', 'he', 'i', 'into', 'knew', 'mine', 'morning', 'my', 'night', 'night', 'not', 'outstretched', 'pole', 'see', 'shine', 'smiles', 'soft', 'stole', 'sunned', 'tears', 'that', 'till', 'told', 'tree', 'veild', 'was', 'waterd', 'when', 'wiles', 'with', 'wrath', 'wrath']\n"
     ]
    }
   ],
   "source": [
    "blacklist = ['and', 'as', 'an', 'a', 'the', 'in', 'it']\n",
    "\n",
    "poem = \"\"\"I was angry with my friend; \n",
    "I told my wrath, my wrath did end.\n",
    "I was angry with my foe: \n",
    "I told it not, my wrath did grow. \n",
    "\n",
    "And I waterd it in fears,\n",
    "Night & morning with my tears: \n",
    "And I sunned it with smiles,\n",
    "And with soft deceitful wiles. \n",
    "\n",
    "And it grew both day and night. \n",
    "Till it bore an apple bright. \n",
    "And my foe beheld it shine,\n",
    "And he knew that it was mine. \n",
    "\n",
    "And into my garden stole, \n",
    "When the night had veild the pole; \n",
    "In the morning glad I see; \n",
    "My foe outstretched beneath the tree.\"\"\"\n",
    "\n",
    "# Your code here:\n",
    "\n",
    "splitted_poem_lower=[]\n",
    "\n",
    "splitted_poem=poem.split()\n",
    "splitted_poem.sort()\n",
    "\n",
    "for word in splitted_poem:\n",
    "    splitted_poem_lower.append(word.lower())\n",
    "\n",
    "#print(splitted_poem_lower)\n",
    "\n",
    "for word in splitted_poem_lower:\n",
    "    splitted_poem_lower.remove(word)\n",
    "    if word.startswith(\"a\")==True:\n",
    "        break\n",
    "\n",
    "selected_words=set(splitted_poem_lower)\n",
    "selected_words=list(selected_words)\n",
    "selected_words.sort()\n",
    "\n",
    "selected_words_filtered=[]\n",
    "\n",
    "for word in selected_words:\n",
    "    selected_words_filtered.append(''.join(re.findall('\\w+',word)))\n",
    "    \n",
    "print(f'Essas são todas as palavras do poema: \\n{selected_words_filtered}\\n')\n",
    "\n",
    "i=0\n",
    "\n",
    "while i<len(selected_words):\n",
    "    if (selected_words[i] in blacklist) == True:\n",
    "        selected_words.remove(selected_words[i])\n",
    "        i=i-1\n",
    "    i=i+1\n",
    "\n",
    "selected_words_filtered2=[]\n",
    "    \n",
    "for word in selected_words:\n",
    "    selected_words_filtered2.append(''.join(re.findall('\\w+',word)))\n",
    "\n",
    "print(f'Essas são as palavras do poema sem as da blacklist: \\n{selected_words_filtered2}')"
   ]
  },
  {
   "cell_type": "markdown",
   "metadata": {
    "colab_type": "text",
    "id": "LKji8o7ayAba"
   },
   "source": [
    "# Regex\n",
    "\n",
    "Obtain a list containing all phone numbers in the text below:\n",
    "\n",
    "Note: there should be 5 of them.\n"
   ]
  },
  {
   "cell_type": "code",
   "execution_count": 49,
   "metadata": {
    "colab": {},
    "colab_type": "code",
    "id": "wM4v-225yBNP"
   },
   "outputs": [
    {
     "name": "stdout",
     "output_type": "stream",
     "text": [
      "['9789-0984', '4222-0901', '4312-5701', '9413-1383', '8993-1031']\n"
     ]
    }
   ],
   "source": [
    "text = \"\"\"\n",
    "Henry's phone number is 9789-0984\n",
    "Darlene's phone number is 4222-0901\n",
    "Andrew's phone number is 4312-5701\n",
    "James' phone number is 9413 1383\n",
    "Erica's phone number is 8993-1031\n",
    "\"\"\"\n",
    "\n",
    "# Your code here\n",
    "phones=re.findall('\\d+-? ?\\d+',text)\n",
    "phones_adjusted=[]\n",
    "\n",
    "\n",
    "\n",
    "for i in range(len(phones)):\n",
    "    phones_adjusted.append(re.sub(' ','-',phones[i]))\n",
    "\n",
    "print(phones_adjusted)"
   ]
  },
  {
   "cell_type": "markdown",
   "metadata": {
    "colab_type": "text",
    "id": "N7UZNc5lxSzZ"
   },
   "source": [
    "\n",
    "In the cell below, filter the list provided and return all elements of the list containing a number. To filter the list, use the re.search function. Check if the function does not return None. You can read more about the re.search function here."
   ]
  },
  {
   "cell_type": "code",
   "execution_count": 39,
   "metadata": {
    "colab": {},
    "colab_type": "code",
    "id": "EzUBZKGqxX-A"
   },
   "outputs": [
    {
     "name": "stdout",
     "output_type": "stream",
     "text": [
      "['123abc', 'abc123', 'JohnSmith1', 'ABBY4']\n"
     ]
    }
   ],
   "source": [
    "data = ['123abc', 'abc123', 'JohnSmith1', 'ABBY4', 'JANE']\n",
    "\n",
    "# Your code here:\n",
    "\n",
    "data_with_numbers=[]\n",
    "\n",
    "for element in data:\n",
    "    x=re.search('\\d+',element)\n",
    "    if x!=None:\n",
    "        data_with_numbers.append(element)\n",
    "    #print(x)\n",
    "print(data_with_numbers)"
   ]
  },
  {
   "cell_type": "markdown",
   "metadata": {
    "colab_type": "text",
    "id": "A2T86JzMwoLT"
   },
   "source": [
    "# Bonus Challenge - Regular Expressions \n",
    "\n",
    "In the cell below, filter the list provided to keep only strings containing at least one digit and at least one lower case letter. As in the previous question, use the `re.search` function and check that the result is not `None`.\n",
    "\n",
    "To read more about regular expressions, check out [this link](https://developers.google.com/edu/python/regular-expressions)."
   ]
  },
  {
   "cell_type": "code",
   "execution_count": 53,
   "metadata": {
    "colab": {},
    "colab_type": "code",
    "id": "rcVk3Gabwomy"
   },
   "outputs": [
    {
     "name": "stdout",
     "output_type": "stream",
     "text": [
      "['123abc', 'abc123', 'JohnSmith1']\n"
     ]
    }
   ],
   "source": [
    "data = ['123abc', 'abc123', 'JohnSmith1', 'ABBY4', 'JANE']\n",
    "# Your code here:\n",
    "\n",
    "data_desired=[]\n",
    "\n",
    "for element in data:\n",
    "    x=re.search('[\\da-z]+[a-z\\d]+',element)\n",
    "    if x!=None:\n",
    "        data_desired.append(element)\n",
    "    #print(x)\n",
    "print(data_desired)"
   ]
  },
  {
   "cell_type": "markdown",
   "metadata": {
    "colab_type": "text",
    "id": "RTzGOO_Hxj5C"
   },
   "source": [
    "# Bonus for Nerds\n",
    "Given a list of reviews, a list of keywords and an integer k. Find the most popular k keywords in order of most to least frequently mentioned.\n",
    "\n",
    "The comparison of strings is case-insensitive. Multiple occurances of a keyword in a review should be considred as a single mention.\n",
    "\n",
    "Example Input:"
   ]
  },
  {
   "cell_type": "markdown",
   "metadata": {
    "colab_type": "text",
    "id": "Q_gsUz83xpGj"
   },
   "source": [
    "```python\n",
    "k = 2\n",
    "keywords = [\"anacell\", \"cetracular\", \"betacellular\"]\n",
    "reviews = [\n",
    "  \"Anacell provides the best services in the city whereas betacellular is the best of the world\",\n",
    "  \"cetracular has awesome services, cetracular is good, cetracular is awesome!\",\n",
    "  \"Best services provided by anacell, everyone should use anacell\",\n",
    "  \"Wow, betacellular services are good.\",\n",
    "]\n",
    "\n",
    "Expected Output:\n",
    "\n",
    "[\"anacell\", \"betacellular\"]\n",
    "\n",
    "# Explanation:\n",
    "# \"anacell\" and \"betacellular\" are occuring in 2 different reviews and \"cetracular\" is only occuring in 1 review, despite having so many repetitions.\n",
    "# The order doesnt matter for now\n",
    "\n",
    "```"
   ]
  },
  {
   "cell_type": "code",
   "execution_count": 10,
   "metadata": {
    "colab": {},
    "colab_type": "code",
    "id": "wn2ai6_6xl0P"
   },
   "outputs": [
    {
     "name": "stdout",
     "output_type": "stream",
     "text": [
      "{'anacell': 2, 'betacellular': 2, 'centracular': 1}\n",
      "2 2 1\n"
     ]
    }
   ],
   "source": [
    "k = 2\n",
    "keywords = [\"anacell\", \"cetracular\", \"betacellular\"]\n",
    "reviews = [\n",
    "  \"Anacell provides the best services in the city whereas betacellular is the best of the world\",\n",
    "  \"cetracular has awesome services, cetracular is good, cetracular is awesome!\",\n",
    "  \"Best services provided by anacell, everyone should use anacell\",\n",
    "  \"Wow, betacellular services are good.\",\n",
    "]\n",
    "\n",
    "anacell_appearances=[]\n",
    "counter_anacell=0\n",
    "centracular_appearances=[]\n",
    "counter_centracular=0\n",
    "betacellular_appearances=[]\n",
    "counter_betacellular=0\n",
    "list_appearances={}\n",
    "\n",
    "for review in reviews:\n",
    "    review_lower=review.lower()\n",
    "    anacell_appearances.append(re.findall(keywords[0],review_lower))\n",
    "for word_in_review in anacell_appearances:\n",
    "    if len(word_in_review)!=0:\n",
    "        counter_anacell=counter_anacell+1\n",
    "\n",
    "for review in reviews:\n",
    "    review_lower=review.lower()\n",
    "    centracular_appearances.append(re.findall(keywords[1],review_lower))\n",
    "for word_in_review in centracular_appearances:\n",
    "    if len(word_in_review)!=0:\n",
    "        counter_centracular=counter_centracular+1\n",
    "\n",
    "for review in reviews:\n",
    "    review_lower=review.lower()\n",
    "    betacellular_appearances.append(re.findall(keywords[2],review_lower))\n",
    "for word_in_review in betacellular_appearances:\n",
    "    if len(word_in_review)!=0:\n",
    "        counter_betacellular=counter_betacellular+1\n",
    "\n",
    "list_appearances['anacell']=counter_anacell\n",
    "list_appearances['betacellular']=counter_betacellular\n",
    "list_appearances['centracular']=counter_centracular\n",
    "    \n",
    "print(counter_anacell,counter_betacellular,counter_centracular)\n",
    "\n",
    "#Pensar melhor em como fazer..."
   ]
  }
 ],
 "metadata": {
  "colab": {
   "collapsed_sections": [],
   "name": "main.ipynb",
   "provenance": []
  },
  "kernelspec": {
   "display_name": "Python 3",
   "language": "python",
   "name": "python3"
  },
  "language_info": {
   "codemirror_mode": {
    "name": "ipython",
    "version": 3
   },
   "file_extension": ".py",
   "mimetype": "text/x-python",
   "name": "python",
   "nbconvert_exporter": "python",
   "pygments_lexer": "ipython3",
   "version": "3.8.3"
  },
  "toc": {
   "base_numbering": 1,
   "nav_menu": {},
   "number_sections": true,
   "sideBar": true,
   "skip_h1_title": false,
   "title_cell": "Table of Contents",
   "title_sidebar": "Contents",
   "toc_cell": false,
   "toc_position": {},
   "toc_section_display": true,
   "toc_window_display": false
  },
  "varInspector": {
   "cols": {
    "lenName": 16,
    "lenType": 16,
    "lenVar": 40
   },
   "kernels_config": {
    "python": {
     "delete_cmd_postfix": "",
     "delete_cmd_prefix": "del ",
     "library": "var_list.py",
     "varRefreshCmd": "print(var_dic_list())"
    },
    "r": {
     "delete_cmd_postfix": ") ",
     "delete_cmd_prefix": "rm(",
     "library": "var_list.r",
     "varRefreshCmd": "cat(var_dic_list()) "
    }
   },
   "types_to_exclude": [
    "module",
    "function",
    "builtin_function_or_method",
    "instance",
    "_Feature"
   ],
   "window_display": false
  }
 },
 "nbformat": 4,
 "nbformat_minor": 1
}
