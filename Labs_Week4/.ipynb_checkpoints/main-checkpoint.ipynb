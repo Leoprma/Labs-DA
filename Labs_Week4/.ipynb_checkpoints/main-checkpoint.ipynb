{
 "cells": [
  {
   "cell_type": "markdown",
   "metadata": {
    "colab_type": "text",
    "id": "mN9kpE7hMEP-"
   },
   "source": [
    "![Ironhack logo](https://i.imgur.com/1QgrNNw.png)\n",
    "\n",
    "# Lab | Numpy\n",
    "\n",
    "## Introduction\n",
    "\n",
    "An important ability of a data scientist/data engineer is to know where and how to find information that helps you to accomplish your work. In the exercise, you will both practice the Numpy features we discussed in the lesson and learn new features by looking up documentations and references. You will work on your own but remember the teaching staff is at your service whenever you encounter problems.\n",
    "\n",
    "## Getting Started\n",
    "There are a bunch of comments which instruct what you are supposed to do step by step. Follow the order of the instructions from top to bottom. Read each instruction carefully and provide your answer beneath it. You should also test your answers to make sure your responses are correct. If one of your responses is incorrect, you may not be able to proceed because later responses may depend upon previous responses.\n",
    "\n",
    "\n",
    "## Resources\n",
    "\n",
    "Some of the questions in the assignment are not covered in our lesson. You will learn how to efficiently look up the information on your own. Below are some resources you can find the information you need.\n",
    "\n",
    "[Numpy User Guide](https://docs.scipy.org/doc/numpy/user/index.html)\n",
    "\n",
    "[Numpy Reference](https://docs.scipy.org/doc/numpy/reference/)\n",
    "\n",
    "[Google Search](https://www.google.com/search?q=how+to+use+numpy)\n",
    "\n"
   ]
  },
  {
   "cell_type": "markdown",
   "metadata": {
    "colab_type": "text",
    "id": "-we_8UVrwCc1"
   },
   "source": [
    "# Intrduction to NumPy\n",
    "\n",
    "\n",
    "#### 1. Import NumPy under the name np."
   ]
  },
  {
   "cell_type": "code",
   "execution_count": 1,
   "metadata": {
    "colab": {},
    "colab_type": "code",
    "id": "3fRJ8mtHwCc5"
   },
   "outputs": [],
   "source": [
    "# your code here\n",
    "\n",
    "import numpy as np"
   ]
  },
  {
   "cell_type": "markdown",
   "metadata": {
    "colab_type": "text",
    "id": "8Xtbl_EvwCc9"
   },
   "source": [
    "#### 2. Print your NumPy version."
   ]
  },
  {
   "cell_type": "code",
   "execution_count": 3,
   "metadata": {
    "colab": {},
    "colab_type": "code",
    "id": "BlegxuJVwCc-"
   },
   "outputs": [
    {
     "data": {
      "text/plain": [
       "'1.19.3'"
      ]
     },
     "execution_count": 3,
     "metadata": {},
     "output_type": "execute_result"
    }
   ],
   "source": [
    "# your code here\n",
    "\n",
    "np.__version__"
   ]
  },
  {
   "cell_type": "markdown",
   "metadata": {
    "colab_type": "text",
    "id": "FpKgyatowCdC"
   },
   "source": [
    "#### 3. Generate a 3x2x5 3-dimensional array with random values. Assign the array to variable *a*.\n",
    "**Challenge**: there are at least three easy ways that use numpy to generate random arrays. How many ways can you find?\n",
    "\n",
    "**Example of output**:\n",
    "````python\n",
    "[[[0.29932768, 0.85812686, 0.75266145, 0.09278988, 0.78358352],\n",
    "  [0.13437453, 0.65695946, 0.82047594, 0.09764179, 0.52230096]],\n",
    " \n",
    " [[0.54248247, 0.06431281, 0.65902257, 0.92736679, 0.3302839 ],\n",
    "  [0.86867236, 0.33960592, 0.62295821, 0.74563567, 0.24351584]],\n",
    " \n",
    " [[0.21276812, 0.06917533, 0.35106591, 0.82273425, 0.7910178 ],\n",
    "  [0.37768961, 0.56107736, 0.99965953, 0.97615549, 0.2445537 ]]]\n",
    "````"
   ]
  },
  {
   "cell_type": "code",
   "execution_count": 11,
   "metadata": {
    "colab": {},
    "colab_type": "code",
    "id": "609Z4Zn3wCdD"
   },
   "outputs": [],
   "source": [
    "# Method 1\n",
    "\n",
    "a_1=np.random.random(size=(3,2,5))"
   ]
  },
  {
   "cell_type": "code",
   "execution_count": 12,
   "metadata": {
    "colab": {},
    "colab_type": "code",
    "id": "q6dKJNO4wCdH"
   },
   "outputs": [],
   "source": [
    "# Method 2\n",
    "\n",
    "a_2=np.random.rand(3,2,5)"
   ]
  },
  {
   "cell_type": "code",
   "execution_count": 13,
   "metadata": {
    "colab": {},
    "colab_type": "code",
    "id": "xILn36GWwCdK"
   },
   "outputs": [],
   "source": [
    "# Method 3\n",
    "\n",
    "a_3=np.random.randint(0,100000,(3,2,5))"
   ]
  },
  {
   "cell_type": "markdown",
   "metadata": {
    "colab_type": "text",
    "id": "aMHxBSCDwCdP"
   },
   "source": [
    "#### 4. Print *a*.\n"
   ]
  },
  {
   "cell_type": "code",
   "execution_count": 18,
   "metadata": {
    "colab": {},
    "colab_type": "code",
    "id": "N_NYL3pHwCdQ"
   },
   "outputs": [
    {
     "name": "stdout",
     "output_type": "stream",
     "text": [
      "a_1:\n",
      "[[[0.96559015 0.44830045 0.31190303 0.32885765 0.56156619]\n",
      "  [0.70238876 0.10900979 0.51243491 0.59653878 0.32772106]]\n",
      "\n",
      " [[0.33227498 0.36665817 0.20419548 0.08129464 0.90900138]\n",
      "  [0.62713682 0.63771999 0.25703794 0.74223244 0.61041338]]\n",
      "\n",
      " [[0.90115216 0.02575759 0.21242379 0.8891695  0.12169717]\n",
      "  [0.61796788 0.27256403 0.72810339 0.84411114 0.57273233]]]\n",
      "\n",
      "\n",
      "a_2:\n",
      "[[[0.02142773 0.50351605 0.77186963 0.04356454 0.76578057]\n",
      "  [0.34499923 0.13001016 0.76002483 0.36211246 0.53625252]]\n",
      "\n",
      " [[0.69267847 0.04745898 0.43841209 0.2306693  0.77030206]\n",
      "  [0.33290268 0.90760815 0.8627367  0.840091   0.50268004]]\n",
      "\n",
      " [[0.95650287 0.87068327 0.62075954 0.59216247 0.45793501]\n",
      "  [0.2805076  0.47404806 0.94866606 0.4073883  0.10825538]]]\n",
      "\n",
      "\n",
      "a_3:\n",
      "[[[43807  5733 67187 95284 20303]\n",
      "  [30933 41051 46266 21262  1028]]\n",
      "\n",
      " [[37599 41658 22471 12810 72282]\n",
      "  [53581 59863 36649 95720 97571]]\n",
      "\n",
      " [[59472 71972 71562 45451 85927]\n",
      "  [92016 46151  5373 33836 46983]]]\n"
     ]
    }
   ],
   "source": [
    "# your code here\n",
    "\n",
    "print(f'a_1:\\n{a_1}\\n\\n\\na_2:\\n{a_2}\\n\\n\\na_3:\\n{a_3}')"
   ]
  },
  {
   "cell_type": "markdown",
   "metadata": {
    "colab_type": "text",
    "id": "kws-mAPSwCdU"
   },
   "source": [
    "#### 5. Create a 5x2x3 3-dimensional array with all values equaling 1. Assign the array to variable *b*."
   ]
  },
  {
   "cell_type": "markdown",
   "metadata": {
    "colab_type": "text",
    "id": "SMAUJKLwJS-8"
   },
   "source": [
    "Expected output:\n",
    "\n",
    "````python\n",
    "      [[[1, 1, 1],\n",
    "        [1, 1, 1]],\n",
    "\n",
    "       [[1, 1, 1],\n",
    "        [1, 1, 1]],\n",
    "\n",
    "       [[1, 1, 1],\n",
    "        [1, 1, 1]],\n",
    "\n",
    "       [[1, 1, 1],\n",
    "        [1, 1, 1]],\n",
    "\n",
    "       [[1, 1, 1],\n",
    "        [1, 1, 1]]]\n",
    "````"
   ]
  },
  {
   "cell_type": "code",
   "execution_count": 30,
   "metadata": {
    "colab": {},
    "colab_type": "code",
    "id": "anCmbtrtwCdW"
   },
   "outputs": [],
   "source": [
    "# your code here\n",
    "\n",
    "b=np.random.randint(0,10,(5,2,3))\n",
    "b[:,:,:]=1"
   ]
  },
  {
   "cell_type": "markdown",
   "metadata": {
    "colab_type": "text",
    "id": "FsYdwPxPwCdZ"
   },
   "source": [
    "#### 6. Print *b*.\n"
   ]
  },
  {
   "cell_type": "code",
   "execution_count": 31,
   "metadata": {
    "colab": {},
    "colab_type": "code",
    "id": "Y3rcPurpwCda"
   },
   "outputs": [
    {
     "name": "stdout",
     "output_type": "stream",
     "text": [
      "[[[1 1 1]\n",
      "  [1 1 1]]\n",
      "\n",
      " [[1 1 1]\n",
      "  [1 1 1]]\n",
      "\n",
      " [[1 1 1]\n",
      "  [1 1 1]]\n",
      "\n",
      " [[1 1 1]\n",
      "  [1 1 1]]\n",
      "\n",
      " [[1 1 1]\n",
      "  [1 1 1]]]\n"
     ]
    }
   ],
   "source": [
    "# your code here\n",
    "print(b)"
   ]
  },
  {
   "cell_type": "markdown",
   "metadata": {
    "colab_type": "text",
    "id": "hGblsnk5wCde"
   },
   "source": [
    "#### 7. Do *a* and *b* have the same size? How do you prove that in Python code?"
   ]
  },
  {
   "cell_type": "code",
   "execution_count": 27,
   "metadata": {
    "colab": {},
    "colab_type": "code",
    "id": "YmKeIpGWwCdf"
   },
   "outputs": [
    {
     "data": {
      "text/plain": [
       "False"
      ]
     },
     "execution_count": 27,
     "metadata": {},
     "output_type": "execute_result"
    }
   ],
   "source": [
    "# your code here\n",
    "\n",
    "a_1.shape==b.shape"
   ]
  },
  {
   "cell_type": "markdown",
   "metadata": {
    "colab_type": "text",
    "id": "o9UzXk9IwCdi"
   },
   "source": [
    "#### 8. Are you able to add *a* and *b*? Why or why not?\n"
   ]
  },
  {
   "cell_type": "code",
   "execution_count": 28,
   "metadata": {
    "colab": {},
    "colab_type": "code",
    "id": "drdAyKPywCdj"
   },
   "outputs": [
    {
     "ename": "ValueError",
     "evalue": "operands could not be broadcast together with shapes (3,2,5) (5,2,3) ",
     "output_type": "error",
     "traceback": [
      "\u001b[1;31m---------------------------------------------------------------------------\u001b[0m",
      "\u001b[1;31mValueError\u001b[0m                                Traceback (most recent call last)",
      "\u001b[1;32m<ipython-input-28-27bb383d892b>\u001b[0m in \u001b[0;36m<module>\u001b[1;34m\u001b[0m\n\u001b[0;32m      1\u001b[0m \u001b[1;31m# your answer here\u001b[0m\u001b[1;33m\u001b[0m\u001b[1;33m\u001b[0m\u001b[1;33m\u001b[0m\u001b[0m\n\u001b[1;32m----> 2\u001b[1;33m \u001b[0ma_1\u001b[0m\u001b[1;33m+\u001b[0m\u001b[0mb\u001b[0m\u001b[1;33m\u001b[0m\u001b[1;33m\u001b[0m\u001b[0m\n\u001b[0m",
      "\u001b[1;31mValueError\u001b[0m: operands could not be broadcast together with shapes (3,2,5) (5,2,3) "
     ]
    }
   ],
   "source": [
    "# your answer here\n",
    "a_1+b\n",
    "\n",
    "#As arrays não tem as mesmas dimensões"
   ]
  },
  {
   "cell_type": "markdown",
   "metadata": {
    "colab_type": "text",
    "id": "DTsSOpvYwCdm"
   },
   "source": [
    "#### 9. Reshape *b* so that it has the same structure of *a* (i.e. become a 3x2x5 array). Assign the reshaped array to variable *c*.\n",
    "\n",
    "Expected output:\n",
    "\n",
    "````python\n",
    "      [[[1, 1, 1, 1, 1],\n",
    "        [1, 1, 1, 1, 1]],\n",
    "\n",
    "       [[1, 1, 1, 1, 1],\n",
    "        [1, 1, 1, 1, 1]],\n",
    "\n",
    "       [[1, 1, 1, 1, 1],\n",
    "        [1, 1, 1, 1, 1]]]\n",
    "````"
   ]
  },
  {
   "cell_type": "code",
   "execution_count": 32,
   "metadata": {
    "colab": {},
    "colab_type": "code",
    "id": "DjLlRJUtwCdn"
   },
   "outputs": [],
   "source": [
    "# your code here\n",
    "\n",
    "c=b.reshape(3,2,5)"
   ]
  },
  {
   "cell_type": "markdown",
   "metadata": {
    "colab_type": "text",
    "id": "fvHocQ9EwCdq"
   },
   "source": [
    "#### 10. Try to add *a* and *c*. Now it should work. Assign the sum to variable *d*. But why does it work now?"
   ]
  },
  {
   "cell_type": "code",
   "execution_count": 38,
   "metadata": {
    "colab": {},
    "colab_type": "code",
    "id": "Ohf5yh5ZwCdr"
   },
   "outputs": [],
   "source": [
    "# your code/answer here\n",
    "\n",
    "d=a_1+c\n",
    "\n",
    "#Agora as arrays tem as mesmas dimensões, por isso, conseguem ser somadas"
   ]
  },
  {
   "cell_type": "markdown",
   "metadata": {
    "colab_type": "text",
    "id": "DuQBMzQBwCdw"
   },
   "source": [
    "#### 11. Print *a* and *d*. Notice the difference and relation of the two array in terms of the values? Explain."
   ]
  },
  {
   "cell_type": "code",
   "execution_count": 40,
   "metadata": {
    "colab": {},
    "colab_type": "code",
    "id": "gEuh7iv1wCdx"
   },
   "outputs": [
    {
     "name": "stdout",
     "output_type": "stream",
     "text": [
      "a:\n",
      "[[[0.96559015 0.44830045 0.31190303 0.32885765 0.56156619]\n",
      "  [0.70238876 0.10900979 0.51243491 0.59653878 0.32772106]]\n",
      "\n",
      " [[0.33227498 0.36665817 0.20419548 0.08129464 0.90900138]\n",
      "  [0.62713682 0.63771999 0.25703794 0.74223244 0.61041338]]\n",
      "\n",
      " [[0.90115216 0.02575759 0.21242379 0.8891695  0.12169717]\n",
      "  [0.61796788 0.27256403 0.72810339 0.84411114 0.57273233]]]\n",
      "\n",
      "\n",
      "d:\n",
      "[[[1.96559015 1.44830045 1.31190303 1.32885765 1.56156619]\n",
      "  [1.70238876 1.10900979 1.51243491 1.59653878 1.32772106]]\n",
      "\n",
      " [[1.33227498 1.36665817 1.20419548 1.08129464 1.90900138]\n",
      "  [1.62713682 1.63771999 1.25703794 1.74223244 1.61041338]]\n",
      "\n",
      " [[1.90115216 1.02575759 1.21242379 1.8891695  1.12169717]\n",
      "  [1.61796788 1.27256403 1.72810339 1.84411114 1.57273233]]]\n"
     ]
    }
   ],
   "source": [
    "# your code/answer here\n",
    "\n",
    "print(f'a:\\n{a_1}\\n\\n\\nd:\\n{d}')"
   ]
  },
  {
   "cell_type": "markdown",
   "metadata": {
    "colab_type": "text",
    "id": "Ka1popJ3wCd0"
   },
   "source": [
    "#### 12. Multiply *a* and *c*. Assign the result to *e*."
   ]
  },
  {
   "cell_type": "code",
   "execution_count": 41,
   "metadata": {
    "colab": {},
    "colab_type": "code",
    "id": "hLeCMiSEwCd1"
   },
   "outputs": [],
   "source": [
    "# your code here\n",
    "\n",
    "e=a_1*c"
   ]
  },
  {
   "cell_type": "markdown",
   "metadata": {
    "colab_type": "text",
    "id": "1QCqP6lMwCd5"
   },
   "source": [
    "#### 13. Does *e* equal to *a*? Why or why not?\n"
   ]
  },
  {
   "cell_type": "code",
   "execution_count": 42,
   "metadata": {
    "colab": {},
    "colab_type": "code",
    "id": "oxoat0cbwCd6"
   },
   "outputs": [
    {
     "name": "stdout",
     "output_type": "stream",
     "text": [
      "[[[0.96559015 0.44830045 0.31190303 0.32885765 0.56156619]\n",
      "  [0.70238876 0.10900979 0.51243491 0.59653878 0.32772106]]\n",
      "\n",
      " [[0.33227498 0.36665817 0.20419548 0.08129464 0.90900138]\n",
      "  [0.62713682 0.63771999 0.25703794 0.74223244 0.61041338]]\n",
      "\n",
      " [[0.90115216 0.02575759 0.21242379 0.8891695  0.12169717]\n",
      "  [0.61796788 0.27256403 0.72810339 0.84411114 0.57273233]]]\n"
     ]
    }
   ],
   "source": [
    "# your code/answer here\n",
    "\n",
    "print(e)\n",
    "\n",
    "#Sim, e é igual a \"a\", porque todo elemento multiplicado por 1 resulta nele mesmo"
   ]
  },
  {
   "cell_type": "markdown",
   "metadata": {
    "colab_type": "text",
    "id": "b7ceZMcswCd9"
   },
   "source": [
    "#### 14. Identify the max, min, and mean values in *d*. Assign those values to variables *d_max*, *d_min* and *d_mean*."
   ]
  },
  {
   "cell_type": "code",
   "execution_count": 43,
   "metadata": {
    "colab": {},
    "colab_type": "code",
    "id": "ljd7J4ucwCd-"
   },
   "outputs": [
    {
     "name": "stdout",
     "output_type": "stream",
     "text": [
      "1.9655901500811923 1.025757588265078 1.4939318333290355\n"
     ]
    }
   ],
   "source": [
    "# your code here\n",
    "\n",
    "d_max=d.max()\n",
    "d_min=d.min()\n",
    "d_mean=d.mean()\n",
    "\n",
    "print(d_max,d_min,d_mean)"
   ]
  },
  {
   "cell_type": "markdown",
   "metadata": {
    "colab_type": "text",
    "id": "bBmZ1bg3wCeC"
   },
   "source": [
    "#### 15. Now we want to label the values in *d*. First create an empty array *f* with the same shape (i.e. 3x2x5) as *d* using `np.empty`.\n"
   ]
  },
  {
   "cell_type": "code",
   "execution_count": 54,
   "metadata": {
    "colab": {},
    "colab_type": "code",
    "id": "GVU7znV7wCeD",
    "scrolled": true
   },
   "outputs": [
    {
     "name": "stdout",
     "output_type": "stream",
     "text": [
      "[[[0.96559015 0.44830045 0.31190303 0.32885765 0.56156619]\n",
      "  [0.70238876 0.10900979 0.51243491 0.59653878 0.32772106]]\n",
      "\n",
      " [[0.33227498 0.36665817 0.20419548 0.08129464 0.90900138]\n",
      "  [0.62713682 0.63771999 0.25703794 0.74223244 0.61041338]]\n",
      "\n",
      " [[0.90115216 0.02575759 0.21242379 0.8891695  0.12169717]\n",
      "  [0.61796788 0.27256403 0.72810339 0.84411114 0.57273233]]]\n"
     ]
    }
   ],
   "source": [
    "# your code here\n",
    "\n",
    "f=np.empty((3,2,5), float)\n",
    "print(f)"
   ]
  },
  {
   "cell_type": "markdown",
   "metadata": {
    "colab_type": "text",
    "id": "cwZMaPTawCeG"
   },
   "source": [
    "#### 16. Populate the values in *f*. \n",
    "\n",
    "For each value in *d*, if it's larger than *d_min* but smaller than *d_mean*, assign 25 to the corresponding value in *f*. If a value in *d* is larger than *d_mean* but smaller than *d_max*, assign 75 to the corresponding value in *f*. If a value equals to *d_mean*, assign 50 to the corresponding value in *f*. Assign 0 to the corresponding value(s) in *f* for *d_min* in *d*. Assign 100 to the corresponding value(s) in *f* for *d_max* in *d*. In the end, f should have only the following values: 0, 25, 50, 75, and 100.\n",
    "\n",
    "**Note**: you don't have to use Numpy in this question."
   ]
  },
  {
   "cell_type": "code",
   "execution_count": 62,
   "metadata": {
    "colab": {},
    "colab_type": "code",
    "id": "He3bA8_vwCeI"
   },
   "outputs": [],
   "source": [
    "# your code here\n",
    "\n",
    "#print(f'd:\\n{d}')\n",
    "\n",
    "d.shape[0]\n",
    "for i in range(d.shape[0]):\n",
    "    for j in range(d.shape[1]):\n",
    "        for k in range(d.shape[2]):\n",
    "            if d[i,j,k]==d_min:\n",
    "                f[i,j,k]=0\n",
    "            elif d[i,j,k]==d_mean:\n",
    "                f[i,j,k]=50\n",
    "            elif d[i,j,k]==d_max:\n",
    "                f[i,j,k]=100\n",
    "            elif d[i,j,k]>d_mean and d[i,j,k]<d_max:\n",
    "                f[i,j,k]=75\n",
    "            elif d[i,j,k]<d_mean and d[i,j,k]>d_min:\n",
    "                f[i,j,k]=25\n",
    "\n",
    "#print(f'\\n\\nf:\\n{f}')"
   ]
  },
  {
   "cell_type": "markdown",
   "metadata": {
    "colab_type": "text",
    "id": "DtXatajMwCeM"
   },
   "source": [
    "#### 17. Print *d* and *f*. Do you have your expected *f*?\n",
    "For instance, if your *d* is:\n",
    "```python\n",
    "[[[1.85836099, 1.67064465, 1.62576044, 1.40243961, 1.88454931],\n",
    "  [1.75354326, 1.69403643, 1.36729252, 1.61415071, 1.12104981]],\n",
    "\n",
    "[[1.72201435, 1.1862918 , 1.87078449, 1.7726778 , 1.88180042],\n",
    "  [1.44747908, 1.31673383, 1.02000951, 1.52218947, 1.97066381]],\n",
    "\n",
    "[[1.79129243, 1.74983003, 1.96028037, 1.85166831, 1.65450881],\n",
    " [1.18068344, 1.9587381 , 1.00656599, 1.93402165, 1.73514584]]]\n",
    "```\n",
    "Your *f* should be:\n",
    "```python\n",
    "[[[ 75.  75.  75.  25.  75.]\n",
    "  [ 75.  75.  25.  25.  25.]]\n",
    "\n",
    " [[ 75.  25.  75.  75.  75.]\n",
    "  [ 25.  25.  25.  25. 100.]]\n",
    "\n",
    " [[ 75.  75.  75.  75.  75.]\n",
    "  [ 25.  75.   0.  75.  75.]]]\n",
    "```"
   ]
  },
  {
   "cell_type": "code",
   "execution_count": 63,
   "metadata": {
    "colab": {},
    "colab_type": "code",
    "id": "wvC83zaUwCeN"
   },
   "outputs": [
    {
     "name": "stdout",
     "output_type": "stream",
     "text": [
      "d:\n",
      "[[[1.96559015 1.44830045 1.31190303 1.32885765 1.56156619]\n",
      "  [1.70238876 1.10900979 1.51243491 1.59653878 1.32772106]]\n",
      "\n",
      " [[1.33227498 1.36665817 1.20419548 1.08129464 1.90900138]\n",
      "  [1.62713682 1.63771999 1.25703794 1.74223244 1.61041338]]\n",
      "\n",
      " [[1.90115216 1.02575759 1.21242379 1.8891695  1.12169717]\n",
      "  [1.61796788 1.27256403 1.72810339 1.84411114 1.57273233]]]\n",
      "\n",
      "\n",
      "f:\n",
      "[[[100.  25.  25.  25.  75.]\n",
      "  [ 75.  25.  75.  75.  25.]]\n",
      "\n",
      " [[ 25.  25.  25.  25.  75.]\n",
      "  [ 75.  75.  25.  75.  75.]]\n",
      "\n",
      " [[ 75.   0.  25.  75.  25.]\n",
      "  [ 75.  25.  75.  75.  75.]]]\n"
     ]
    }
   ],
   "source": [
    "# your code here\n",
    "\n",
    "print(f'd:\\n{d}')\n",
    "print(f'\\n\\nf:\\n{f}')"
   ]
  },
  {
   "cell_type": "markdown",
   "metadata": {
    "colab_type": "text",
    "id": "ppRoFFJBwCeS"
   },
   "source": [
    "#### 18. Bonus question: instead of using numbers (i.e. 0, 25, 50, 75, and 100), use string values  (\"A\", \"B\", \"C\", \"D\", and \"E\") to label the array elements. For the example above, the expected result is:\n",
    "\n",
    "```python\n",
    "[[['D' 'D' 'D' 'B' 'D']\n",
    "  ['D' 'D' 'B' 'B' 'B']]\n",
    "\n",
    " [['D' 'B' 'D' 'D' 'D']\n",
    "  ['B' 'B' 'B' 'B' 'E']]\n",
    "\n",
    " [['D' 'D' 'D' 'D' 'D']\n",
    "  ['B' 'D' 'A' 'D' 'D']]]\n",
    "```\n",
    "**Note**: you don't have to use Numpy in this question."
   ]
  },
  {
   "cell_type": "code",
   "execution_count": 0,
   "metadata": {
    "colab": {},
    "colab_type": "code",
    "id": "xbBNSrnCwCeU"
   },
   "outputs": [],
   "source": [
    "# your code here"
   ]
  },
  {
   "cell_type": "markdown",
   "metadata": {
    "colab_type": "text",
    "id": "QzJyLQiFMsyT"
   },
   "source": [
    "## Additional Challenges for the Nerds\n",
    "\n",
    "If you are way ahead of your classmates and willing to accept some tough challenges about Numpy, take one or several of the following Codewar *katas*. \tYou need to already possess a good amount of knowledge in Python and statistics because you will need to write Python functions, do loops, write conditionals, and deal with matrices.\n",
    "\n",
    "* [Insert dashes](https://www.codewars.com/kata/insert-dashes)\n",
    "* [Thinkful - Logic Drills: Red and bumpy](https://www.codewars.com/kata/thinkful-logic-drills-red-and-bumpy)"
   ]
  },
  {
   "cell_type": "code",
   "execution_count": 0,
   "metadata": {
    "colab": {},
    "colab_type": "code",
    "id": "fy2EwolQMtfJ"
   },
   "outputs": [],
   "source": []
  }
 ],
 "metadata": {
  "colab": {
   "collapsed_sections": [],
   "name": "main.ipynb",
   "provenance": []
  },
  "kernelspec": {
   "display_name": "Python 3",
   "language": "python",
   "name": "python3"
  },
  "language_info": {
   "codemirror_mode": {
    "name": "ipython",
    "version": 3
   },
   "file_extension": ".py",
   "mimetype": "text/x-python",
   "name": "python",
   "nbconvert_exporter": "python",
   "pygments_lexer": "ipython3",
   "version": "3.8.3"
  },
  "toc": {
   "base_numbering": 1,
   "nav_menu": {},
   "number_sections": true,
   "sideBar": true,
   "skip_h1_title": false,
   "title_cell": "Table of Contents",
   "title_sidebar": "Contents",
   "toc_cell": false,
   "toc_position": {},
   "toc_section_display": true,
   "toc_window_display": false
  },
  "varInspector": {
   "cols": {
    "lenName": 16,
    "lenType": 16,
    "lenVar": 40
   },
   "kernels_config": {
    "python": {
     "delete_cmd_postfix": "",
     "delete_cmd_prefix": "del ",
     "library": "var_list.py",
     "varRefreshCmd": "print(var_dic_list())"
    },
    "r": {
     "delete_cmd_postfix": ") ",
     "delete_cmd_prefix": "rm(",
     "library": "var_list.r",
     "varRefreshCmd": "cat(var_dic_list()) "
    }
   },
   "types_to_exclude": [
    "module",
    "function",
    "builtin_function_or_method",
    "instance",
    "_Feature"
   ],
   "window_display": false
  }
 },
 "nbformat": 4,
 "nbformat_minor": 1
}
